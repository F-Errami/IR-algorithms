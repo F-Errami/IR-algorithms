{
 "cells": [
  {
   "cell_type": "markdown",
   "metadata": {},
   "source": [
    "# Inverted Index\n",
    "\n",
    "Associate a collection of terms (lexicon) with the documents that contain those terms.\n",
    "\n",
    "The data structure is much more dense than a Document Term Matrix.\n"
   ]
  },
  {
   "cell_type": "code",
   "execution_count": 1,
   "metadata": {},
   "outputs": [
    {
     "name": "stderr",
     "output_type": "stream",
     "text": [
      "[nltk_data] Downloading package punkt to /Users/mac/nltk_data...\n",
      "[nltk_data]   Package punkt is already up-to-date!\n",
      "[nltk_data] Downloading package stopwords to /Users/mac/nltk_data...\n",
      "[nltk_data]   Package stopwords is already up-to-date!\n",
      "[nltk_data] Downloading package wordnet to /Users/mac/nltk_data...\n",
      "[nltk_data]   Package wordnet is already up-to-date!\n",
      "[nltk_data] Downloading package omw-1.4 to /Users/mac/nltk_data...\n",
      "[nltk_data]   Package omw-1.4 is already up-to-date!\n",
      "[nltk_data] Downloading package averaged_perceptron_tagger to\n",
      "[nltk_data]     /Users/mac/nltk_data...\n",
      "[nltk_data]   Package averaged_perceptron_tagger is already up-to-\n",
      "[nltk_data]       date!\n"
     ]
    }
   ],
   "source": [
    "import nltk\n",
    "nltk.download('punkt')\n",
    "nltk.download('stopwords')\n",
    "nltk.download('wordnet')\n",
    "nltk.download('omw-1.4')\n",
    "nltk.download('averaged_perceptron_tagger')\n",
    "\n",
    "from nltk import word_tokenize\n",
    "from nltk.corpus import stopwords\n",
    "from string import punctuation\n",
    "from nltk.stem import PorterStemmer\n",
    "from nltk.stem import WordNetLemmatizer\n",
    "from nltk import pos_tag"
   ]
  },
  {
   "cell_type": "code",
   "execution_count": 2,
   "metadata": {},
   "outputs": [],
   "source": [
    "# Collection of documents (corpus)\n",
    "doc1 = \"A professional business male, late 40s, 6 feet tall, slim build, well groomed, great personality, home owner, interests include the arts travel and all things good, Ringwood area, is seeking a genuine female of similar age or older, in same area or surrounds, for a meaningful long term rship. Looking forward to hearing from you all.\"\n",
    "doc2 = \"MALE LATE 50''s AUST Single, tall, prof. Interests: Music, theatre, dining, art, the beach and the environment. Seeking female with similar interests to share concerts, dining etc.\"\n",
    "doc3 = \"GENUINE AND HONEST Hi Im 44 with a good sense of humour, am romantic and love drives, fishing, camping and music. Love my 2 kids. Am looking for a lady with similar interests, aged between 38-45 for friendship/ possible relationship.\""
   ]
  },
  {
   "cell_type": "code",
   "execution_count": 3,
   "metadata": {},
   "outputs": [
    {
     "data": {
      "text/plain": [
       "['A professional business male, late 40s, 6 feet tall, slim build, well groomed, great personality, home owner, interests include the arts travel and all things good, Ringwood area, is seeking a genuine female of similar age or older, in same area or surrounds, for a meaningful long term rship. Looking forward to hearing from you all.',\n",
       " \"MALE LATE 50''s AUST Single, tall, prof. Interests: Music, theatre, dining, art, the beach and the environment. Seeking female with similar interests to share concerts, dining etc.\",\n",
       " 'GENUINE AND HONEST Hi Im 44 with a good sense of humour, am romantic and love drives, fishing, camping and music. Love my 2 kids. Am looking for a lady with similar interests, aged between 38-45 for friendship/ possible relationship.']"
      ]
     },
     "execution_count": 3,
     "metadata": {},
     "output_type": "execute_result"
    }
   ],
   "source": [
    "docs = [doc1, doc2, doc3]\n",
    "docs"
   ]
  },
  {
   "cell_type": "markdown",
   "metadata": {},
   "source": [
    "### Text processing "
   ]
  },
  {
   "cell_type": "code",
   "execution_count": 4,
   "metadata": {},
   "outputs": [],
   "source": [
    "def text_preprocessing(corpus) :\n",
    "    print(corpus)\n",
    "    # Tokenize the given document\n",
    "    tokenized = word_tokenize(corpus)\n",
    "    \n",
    "    # Lower case all words\n",
    "    tokenized = [word.lower() for word in tokenized]\n",
    "    \n",
    "    # Remove stopwords\n",
    "    stopwords_en = set(stopwords.words(\"english\"))\n",
    "    stopwords_en = stopwords_en.union(set(punctuation))\n",
    "    tokenized_without_sw = [word for word in tokenized if not word in stopwords_en]\n",
    "    \n",
    "    # Stemming \n",
    "    #porter = PorterStemmer()\n",
    "    #tokenized_without_sw = [porter.stem(word) for word in tokenized_without_sw]\n",
    "    \n",
    "    # POS tagging \n",
    "    doc_tagged = pos_tag(tokenized_without_sw)\n",
    "    \n",
    "    # Lemmatizer\n",
    "    wnl = WordNetLemmatizer()\n",
    "    result = [wnl.lemmatize(word, pos=penn2morphy(tag[:2])) for word, tag in doc_tagged]\n",
    "    \n",
    "    return result"
   ]
  },
  {
   "cell_type": "code",
   "execution_count": 5,
   "metadata": {},
   "outputs": [],
   "source": [
    "def penn2morphy(tag) : \n",
    "    morphy_tag = {'NN':'n', 'JJ':'a',\n",
    "                  'VB':'v', 'RB':'r'}\n",
    "    try:\n",
    "        return morphy_tag[tag]\n",
    "    except:\n",
    "        return 'n' # if mapping isn't found, fall back to Noun."
   ]
  },
  {
   "cell_type": "code",
   "execution_count": 6,
   "metadata": {},
   "outputs": [
    {
     "name": "stdout",
     "output_type": "stream",
     "text": [
      "A professional business male, late 40s, 6 feet tall, slim build, well groomed, great personality, home owner, interests include the arts travel and all things good, Ringwood area, is seeking a genuine female of similar age or older, in same area or surrounds, for a meaningful long term rship. Looking forward to hearing from you all.\n",
      "MALE LATE 50''s AUST Single, tall, prof. Interests: Music, theatre, dining, art, the beach and the environment. Seeking female with similar interests to share concerts, dining etc.\n",
      "GENUINE AND HONEST Hi Im 44 with a good sense of humour, am romantic and love drives, fishing, camping and music. Love my 2 kids. Am looking for a lady with similar interests, aged between 38-45 for friendship/ possible relationship.\n"
     ]
    },
    {
     "data": {
      "text/plain": [
       "['professional business male late 40 6 foot tall slim build well groom great personality home owner interest include art travel thing good ringwood area seek genuine female similar age old area surround meaningful long term rship look forward hear',\n",
       " \"male late 50 '' aust single tall prof interest music theatre din art beach environment seek female similar interest share concert din etc\",\n",
       " 'genuine honest hi im 44 good sense humour romantic love drive fish camp music love 2 kid look lady similar interest age 38-45 friendship/ possible relationship']"
      ]
     },
     "execution_count": 6,
     "metadata": {},
     "output_type": "execute_result"
    }
   ],
   "source": [
    "\n",
    "docs_preprocessedV1 = []\n",
    "docs_preprocessed = []\n",
    "for doc in docs : \n",
    "    docs_preprocessedV1.append(text_preprocessing (doc))\n",
    "for ls in docs_preprocessedV1:\n",
    "    s = ' '.join(ls)\n",
    "    docs_preprocessed.append(s)\n",
    "    \n",
    "docs_preprocessed"
   ]
  },
  {
   "cell_type": "code",
   "execution_count": 7,
   "metadata": {},
   "outputs": [
    {
     "data": {
      "text/plain": [
       "{\"''\",\n",
       " '2',\n",
       " '38-45',\n",
       " '40',\n",
       " '44',\n",
       " '50',\n",
       " '6',\n",
       " 'age',\n",
       " 'area',\n",
       " 'art',\n",
       " 'aust',\n",
       " 'beach',\n",
       " 'build',\n",
       " 'business',\n",
       " 'camp',\n",
       " 'concert',\n",
       " 'din',\n",
       " 'drive',\n",
       " 'environment',\n",
       " 'etc',\n",
       " 'female',\n",
       " 'fish',\n",
       " 'foot',\n",
       " 'forward',\n",
       " 'friendship/',\n",
       " 'genuine',\n",
       " 'good',\n",
       " 'great',\n",
       " 'groom',\n",
       " 'hear',\n",
       " 'hi',\n",
       " 'home',\n",
       " 'honest',\n",
       " 'humour',\n",
       " 'im',\n",
       " 'include',\n",
       " 'interest',\n",
       " 'kid',\n",
       " 'lady',\n",
       " 'late',\n",
       " 'long',\n",
       " 'look',\n",
       " 'love',\n",
       " 'male',\n",
       " 'meaningful',\n",
       " 'music',\n",
       " 'old',\n",
       " 'owner',\n",
       " 'personality',\n",
       " 'possible',\n",
       " 'prof',\n",
       " 'professional',\n",
       " 'relationship',\n",
       " 'ringwood',\n",
       " 'romantic',\n",
       " 'rship',\n",
       " 'seek',\n",
       " 'sense',\n",
       " 'share',\n",
       " 'similar',\n",
       " 'single',\n",
       " 'slim',\n",
       " 'surround',\n",
       " 'tall',\n",
       " 'term',\n",
       " 'theatre',\n",
       " 'thing',\n",
       " 'travel',\n",
       " 'well'}"
      ]
     },
     "execution_count": 7,
     "metadata": {},
     "output_type": "execute_result"
    }
   ],
   "source": [
    "# Gather the set of all unique terms\n",
    "\n",
    "unique_terms = {term for doc in docs_preprocessed for term in doc.split()}\n",
    "unique_terms"
   ]
  },
  {
   "cell_type": "code",
   "execution_count": 8,
   "metadata": {},
   "outputs": [
    {
     "data": {
      "text/plain": [
       "{'professional': {0},\n",
       " 'business': {0},\n",
       " 'male': {0, 1},\n",
       " 'late': {0, 1},\n",
       " '40': {0},\n",
       " '6': {0},\n",
       " 'foot': {0},\n",
       " 'tall': {0, 1},\n",
       " 'slim': {0},\n",
       " 'build': {0},\n",
       " 'well': {0},\n",
       " 'groom': {0},\n",
       " 'great': {0},\n",
       " 'personality': {0},\n",
       " 'home': {0},\n",
       " 'owner': {0},\n",
       " 'interest': {0, 1, 2},\n",
       " 'include': {0},\n",
       " 'art': {0, 1},\n",
       " 'travel': {0},\n",
       " 'thing': {0},\n",
       " 'good': {0, 2},\n",
       " 'ringwood': {0},\n",
       " 'area': {0},\n",
       " 'seek': {0, 1},\n",
       " 'genuine': {0, 2},\n",
       " 'female': {0, 1},\n",
       " 'similar': {0, 1, 2},\n",
       " 'age': {0, 2},\n",
       " 'old': {0},\n",
       " 'surround': {0},\n",
       " 'meaningful': {0},\n",
       " 'long': {0},\n",
       " 'term': {0},\n",
       " 'rship': {0},\n",
       " 'look': {0, 2},\n",
       " 'forward': {0},\n",
       " 'hear': {0},\n",
       " '50': {1},\n",
       " \"''\": {1},\n",
       " 'aust': {1},\n",
       " 'single': {1},\n",
       " 'prof': {1},\n",
       " 'music': {1, 2},\n",
       " 'theatre': {1},\n",
       " 'din': {1},\n",
       " 'beach': {1},\n",
       " 'environment': {1},\n",
       " 'share': {1},\n",
       " 'concert': {1},\n",
       " 'etc': {1},\n",
       " 'honest': {2},\n",
       " 'hi': {2},\n",
       " 'im': {2},\n",
       " '44': {2},\n",
       " 'sense': {2},\n",
       " 'humour': {2},\n",
       " 'romantic': {2},\n",
       " 'love': {2},\n",
       " 'drive': {2},\n",
       " 'fish': {2},\n",
       " 'camp': {2},\n",
       " '2': {2},\n",
       " 'kid': {2},\n",
       " 'lady': {2},\n",
       " '38-45': {2},\n",
       " 'friendship/': {2},\n",
       " 'possible': {2},\n",
       " 'relationship': {2}}"
      ]
     },
     "execution_count": 8,
     "metadata": {},
     "output_type": "execute_result"
    }
   ],
   "source": [
    "# Construct an inverted index\n",
    "# here as a Python dictionary for ease of interpretability\n",
    "\n",
    "inverted_index = {}\n",
    "\n",
    "for i, doc in enumerate(docs_preprocessed):\n",
    "    for term in doc.split():\n",
    "        if term in inverted_index:\n",
    "            inverted_index[term].add(i)\n",
    "        else: inverted_index[term] = {i}\n",
    "\n",
    "inverted_index"
   ]
  },
  {
   "cell_type": "code",
   "execution_count": 9,
   "metadata": {},
   "outputs": [],
   "source": [
    "# Now we can get posting lists for any term"
   ]
  },
  {
   "cell_type": "code",
   "execution_count": 10,
   "metadata": {},
   "outputs": [
    {
     "data": {
      "text/plain": [
       "{0, 1}"
      ]
     },
     "execution_count": 10,
     "metadata": {},
     "output_type": "execute_result"
    }
   ],
   "source": [
    "posting_list = inverted_index['male']\n",
    "posting_list"
   ]
  },
  {
   "cell_type": "code",
   "execution_count": 11,
   "metadata": {},
   "outputs": [],
   "source": [
    "# We can use the posting lists to locate the documents by ID (here just their ordering in the documents array)\n",
    "# Think of this as a hash table, or a distributed hash table for much larger scenarios"
   ]
  },
  {
   "cell_type": "code",
   "execution_count": 12,
   "metadata": {},
   "outputs": [],
   "source": [
    "# Notice now we can perform boolean operations on postings lists for Boolean search operations"
   ]
  },
  {
   "cell_type": "code",
   "execution_count": 13,
   "metadata": {},
   "outputs": [],
   "source": [
    "def or_postings(posting1, posting2):\n",
    "    p1 = 0\n",
    "    p2 = 0\n",
    "    result = list()\n",
    "    while p1 < len(posting1) and p2 < len(posting2):\n",
    "        if posting1[p1] == posting2[p2]:\n",
    "            result.append(posting1[p1])\n",
    "            p1 += 1\n",
    "            p2 += 1\n",
    "        elif posting1[p1] > posting2[p2]:\n",
    "            result.append(posting2[p2])\n",
    "            p2 += 1\n",
    "        else:\n",
    "            result.append(posting1[p1])\n",
    "            p1 += 1\n",
    "    while p1 < len(posting1):\n",
    "        result.append(posting1[p1])\n",
    "        p1 += 1\n",
    "    while p2 < len(posting2):\n",
    "        result.append(posting2[p2])\n",
    "        p2 += 1\n",
    "    return result"
   ]
  },
  {
   "cell_type": "code",
   "execution_count": 14,
   "metadata": {},
   "outputs": [
    {
     "name": "stdout",
     "output_type": "stream",
     "text": [
      "male\n",
      "A professional business male, late 40s, 6 feet tall, slim build, well groomed, great personality, home owner, interests include the arts travel and all things good, Ringwood area, is seeking a genuine female of similar age or older, in same area or surrounds, for a meaningful long term rship. Looking forward to hearing from you all.\n",
      "\n",
      "MALE LATE 50''s AUST Single, tall, prof. Interests: Music, theatre, dining, art, the beach and the environment. Seeking female with similar interests to share concerts, dining etc.\n",
      "\n",
      "GENUINE AND HONEST Hi Im 44 with a good sense of humour, am romantic and love drives, fishing, camping and music. Love my 2 kids. Am looking for a lady with similar interests, aged between 38-45 for friendship/ possible relationship.\n",
      "\n"
     ]
    }
   ],
   "source": [
    "import numpy as np\n",
    "\n",
    "query = \"interest OR male\"\n",
    "query = query.split(\" OR \")\n",
    "\n",
    "pl_1 = list(inverted_index[query[0]])\n",
    "pl_2 = list(inverted_index[\"\".join(text_preprocessing(query[1]))])\n",
    "results = or_postings(pl_1, pl_2)\n",
    "for rs in results:\n",
    "    print(docs[rs]+\"\\n\")"
   ]
  },
  {
   "cell_type": "code",
   "execution_count": 15,
   "metadata": {},
   "outputs": [],
   "source": [
    "def and_postings(posting1, posting2):\n",
    "    p1 = 0\n",
    "    p2 = 0\n",
    "    result = list()\n",
    "    while p1 < len(posting1) and p2 < len(posting2):\n",
    "        if posting1[p1] == posting2[p2]:\n",
    "            result.append(posting1[p1])\n",
    "            p1 += 1\n",
    "            p2 += 1\n",
    "        elif posting1[p1] > posting2[p2]:\n",
    "            p2 += 1\n",
    "        else:\n",
    "            p1 += 1\n",
    "    return result"
   ]
  },
  {
   "cell_type": "code",
   "execution_count": 16,
   "metadata": {},
   "outputs": [
    {
     "name": "stdout",
     "output_type": "stream",
     "text": [
      "A professional business male, late 40s, 6 feet tall, slim build, well groomed, great personality, home owner, interests include the arts travel and all things good, Ringwood area, is seeking a genuine female of similar age or older, in same area or surrounds, for a meaningful long term rship. Looking forward to hearing from you all.\n",
      "\n",
      "MALE LATE 50''s AUST Single, tall, prof. Interests: Music, theatre, dining, art, the beach and the environment. Seeking female with similar interests to share concerts, dining etc.\n",
      "\n"
     ]
    }
   ],
   "source": [
    "query = \"interest AND male\"\n",
    "query = query.split(\" AND \")\n",
    "\n",
    "pl_1 = list(inverted_index[query[0]])\n",
    "pl_2 = list(inverted_index[query[1]])\n",
    "results = and_postings(pl_1, pl_2)\n",
    "for rs in results:\n",
    "    print(docs[rs]+\"\\n\")"
   ]
  },
  {
   "cell_type": "code",
   "execution_count": null,
   "metadata": {},
   "outputs": [],
   "source": []
  }
 ],
 "metadata": {
  "kernelspec": {
   "display_name": "Python 3",
   "language": "python",
   "name": "python3"
  },
  "language_info": {
   "codemirror_mode": {
    "name": "ipython",
    "version": 3
   },
   "file_extension": ".py",
   "mimetype": "text/x-python",
   "name": "python",
   "nbconvert_exporter": "python",
   "pygments_lexer": "ipython3",
   "version": "3.8.8"
  }
 },
 "nbformat": 4,
 "nbformat_minor": 2
}
